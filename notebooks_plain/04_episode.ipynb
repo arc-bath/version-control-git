{
 "cells": [
  {
   "cell_type": "markdown",
   "metadata": {
    "slideshow": {
     "slide_type": "slide"
    }
   },
   "source": [
    "# Tracking Changes"
   ]
  },
  {
   "cell_type": "markdown",
   "metadata": {
    "slideshow": {
     "slide_type": "slide"
    }
   },
   "source": [
    "## Overview\n",
    "- **Teaching:** 20 min\n",
    "- **Exercises:** 0 min\n",
    "\n",
    "**Questions**\n",
    "- How do I record changes in Git?\n",
    "- How do I check the status of my version control repository?\n",
    "- How do I record notes about what changes I made and why?\n",
    "\n",
    "**Objectives**\n",
    "- Go through the modify-add-commit cycle for one or more files.\n",
    "- Explain where information is stored at each stage of that cycle.\n",
    "- Distinguish between descriptive and non-descriptive commit messages.\n",
    "\n"
   ]
  },
  {
   "cell_type": "markdown",
   "metadata": {
    "slideshow": {
     "slide_type": "slide"
    }
   },
   "source": [
    "First let’s make sure we’re still in the right directory. You should be in the planets directory.\n",
    "\n",
    "```bash\n",
    "% pwd\n",
    "```\n",
    "\n",
    "If you are still in `moons` navigate back up to `planets`:\n",
    "```bash\n",
    "% cd ..\n",
    "```"
   ]
  },
  {
   "cell_type": "markdown",
   "metadata": {
    "slideshow": {
     "slide_type": "slide"
    }
   },
   "source": [
    "Let’s create a file called `mars.txt` that contains some notes about the Red Planet’s suitability as a base. We’ll use `nano` to edit the file; you can use whatever editor you like. In particular, this does not have to be the `core.editor` you set globally earlier. But remember, the bash command to create or edit a new file will depend on the editor you choose (it might not be nano).\n",
    "\n",
    "```bash\n",
    "% nano mars.txt\n",
    "```"
   ]
  },
  {
   "cell_type": "markdown",
   "metadata": {
    "slideshow": {
     "slide_type": "slide"
    }
   },
   "source": [
    "Type the text below into the mars.txt file:\n",
    "\n",
    "```bash\n",
    "Cold and dry, but everything is my favorite color\n",
    "```"
   ]
  },
  {
   "cell_type": "markdown",
   "metadata": {
    "slideshow": {
     "slide_type": "slide"
    }
   },
   "source": [
    "Save and exit `nano`.  We have created `mars.txt` which we can see by running:\n",
    "```bash\n",
    "% ls\n",
    "mars.txt\n",
    "```\n",
    "\n",
    "and check its contents with:\n",
    "```bash\n",
    "% cat mars.txt\n",
    "Cold and dry, but everything is my favorite color\n",
    "```"
   ]
  },
  {
   "cell_type": "markdown",
   "metadata": {
    "slideshow": {
     "slide_type": "slide"
    }
   },
   "source": [
    "If we check the status of our project again, Git tells us that it’s noticed the new file:\n",
    "```bash\n",
    "% git status\n",
    "On branch master\n",
    "\n",
    "Initial commit\n",
    "\n",
    "Untracked files:\n",
    "   (use \"git add <file>...\" to include in what will be committed)\n",
    "\n",
    "\tmars.txt\n",
    "nothing added to commit but untracked files present (use \"git add\" to track)\n",
    "```"
   ]
  },
  {
   "cell_type": "markdown",
   "metadata": {
    "slideshow": {
     "slide_type": "slide"
    }
   },
   "source": [
    "The “untracked files” message means that there’s a file in the directory that Git isn’t keeping track of. We can tell Git to track a file using git add:\n",
    "```bash\n",
    "% git add mars.txt\n",
    "On branch master\n",
    "\n",
    "Initial commit\n",
    "\n",
    "Changes to be committed:\n",
    "  (use \"git rm --cached <file>...\" to unstage)\n",
    "\n",
    "\tnew file:   mars.txt\n",
    "```"
   ]
  },
  {
   "cell_type": "markdown",
   "metadata": {
    "slideshow": {
     "slide_type": "slide"
    }
   },
   "source": [
    "Git now knows that it’s supposed to keep track of mars.txt, but it hasn’t recorded these changes as a commit yet. To get it to do that, we need to run one more command:\n",
    "```bash\n",
    "% git commit -m \"Start notes on Mars as a base\"\n",
    "[master (root-commit) f22b25e] Start notes on Mars as a base\n",
    " 1 file changed, 1 insertion(+)\n",
    " create mode 100644 mars.txt\n",
    "```"
   ]
  },
  {
   "cell_type": "markdown",
   "metadata": {
    "slideshow": {
     "slide_type": "slide"
    }
   },
   "source": [
    "When we run `git commit`, Git takes everything we have told it to save by using `git add` and stores a copy permanently inside the special `.git` directory. This permanent copy is called a commit (or revision) and its short identifier is `f22b25e` (Your commit will probably have another identifier.)\n",
    "\n",
    "We use the `-m` flag (for “message”) to record a short, descriptive, and specific comment that will help us remember later on what we did and why. If we just run `git commit` without the `-m` option, Git will launch `nano` (or whatever other editor we configured as `core.editor`) so that we can write a longer message.\n",
    "\n",
    "Good commit messages start with a brief (<50 characters) summary of changes made in the commit. If you want to go into more detail, add a blank line between the summary line and your additional notes."
   ]
  },
  {
   "cell_type": "markdown",
   "metadata": {
    "slideshow": {
     "slide_type": "slide"
    }
   },
   "source": [
    "If we run git status now:\n",
    "```bash\n",
    "git status\n",
    "On branch master\n",
    "nothing to commit, working directory clean\n",
    "```"
   ]
  },
  {
   "cell_type": "markdown",
   "metadata": {},
   "source": [
    "This tells us everything is up to date. If we want to know what we’ve done recently, we can ask Git to show us the project’s history using `git log`:\n",
    "```bash\n",
    "% git log\n",
    "commit f22b25e3233b4645dabd0d81e651fe074bd8e73b\n",
    "Author: Vlad Dracula <vlad@tran.sylvan.ia>\n",
    "Date:   Thu Aug 22 09:51:46 2013 -0400\n",
    "\n",
    "    Start notes on Mars as a base\n",
    "```"
   ]
  },
  {
   "cell_type": "markdown",
   "metadata": {
    "slideshow": {
     "slide_type": "slide"
    }
   },
   "source": [
    "`git log` lists all commits made to a repository in reverse chronological order. The listing for each commit includes the commit’s full identifier (which starts with the same characters as the short identifier printed by the `git commit` command earlier), the commit’s author, when it was created, and the log message Git was given when the commit was created."
   ]
  },
  {
   "cell_type": "markdown",
   "metadata": {
    "slideshow": {
     "slide_type": "slide"
    }
   },
   "source": [
    "Now suppose Dracula adds more information to the file.  Again, we’ll edit with `nano` and then `cat` the file to show its contents.\n"
   ]
  },
  {
   "cell_type": "markdown",
   "metadata": {
    "slideshow": {
     "slide_type": "slide"
    }
   },
   "source": [
    "## Pin: Where are my changes?\n",
    "\n",
    "If we run ls at this point, we will still see just one file called mars.txt. That’s because Git saves information about files’ history in the special .git directory mentioned earlier so that our filesystem doesn’t become cluttered (and so that we can’t accidentally edit or delete an old version)."
   ]
  },
  {
   "cell_type": "markdown",
   "metadata": {
    "slideshow": {
     "slide_type": "slide"
    }
   },
   "source": [
    "## Key Points\n",
    "- top and bottom are used to decorate the schedule and episodes to provide a consistent appearance.\n",
    "- Your README.md describing the project will be used as an index for the html so as always keep it up to date and informative."
   ]
  }
 ],
 "metadata": {
  "celltoolbar": "Slideshow",
  "kernelspec": {
   "display_name": "Python 3",
   "language": "python",
   "name": "python3"
  },
  "language_info": {
   "codemirror_mode": {
    "name": "ipython",
    "version": 3
   },
   "file_extension": ".py",
   "mimetype": "text/x-python",
   "name": "python",
   "nbconvert_exporter": "python",
   "pygments_lexer": "ipython3",
   "version": "3.6.4"
  }
 },
 "nbformat": 4,
 "nbformat_minor": 2
}
